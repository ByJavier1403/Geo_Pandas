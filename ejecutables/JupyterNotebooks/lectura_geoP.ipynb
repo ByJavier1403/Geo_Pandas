{
 "cells": [
  {
   "cell_type": "code",
   "execution_count": 3,
   "metadata": {},
   "outputs": [],
   "source": [
    "import geopandas as gpd\n",
    "import geodatasets as gds\n"
   ]
  },
  {
   "cell_type": "markdown",
   "metadata": {},
   "source": [
    "# Lectura de archivos en geopandas\n"
   ]
  },
  {
   "cell_type": "markdown",
   "metadata": {},
   "source": [
    "Geopandas permite la lecuta y analisis de archivos geograficos, tales como lo pueden ser los shapefiles, archivos de forma y geojson "
   ]
  },
  {
   "cell_type": "markdown",
   "metadata": {},
   "source": [
    "La lectura la puede hacer desde un url "
   ]
  },
  {
   "cell_type": "code",
   "execution_count": 1,
   "metadata": {},
   "outputs": [
    {
     "ename": "NameError",
     "evalue": "name 'gpd' is not defined",
     "output_type": "error",
     "traceback": [
      "\u001b[0;31m---------------------------------------------------------------------------\u001b[0m",
      "\u001b[0;31mNameError\u001b[0m                                 Traceback (most recent call last)",
      "\u001b[1;32m/root/Geo_Pandas/ejecutables/JupyterNotebooks/lectura_geoP.ipynb Cell 5\u001b[0m line \u001b[0;36m2\n\u001b[1;32m      <a href='vscode-notebook-cell://wsl%2Bubuntu/root/Geo_Pandas/ejecutables/JupyterNotebooks/lectura_geoP.ipynb#W4sdnNjb2RlLXJlbW90ZQ%3D%3D?line=0'>1</a>\u001b[0m url \u001b[39m=\u001b[39m \u001b[39m\"\u001b[39m\u001b[39mhttp://d2ad6b4ur7yvpq.cloudfront.net/naturalearth-3.3.0/ne_110m_land.geojson\u001b[39m\u001b[39m\"\u001b[39m\n\u001b[0;32m----> <a href='vscode-notebook-cell://wsl%2Bubuntu/root/Geo_Pandas/ejecutables/JupyterNotebooks/lectura_geoP.ipynb#W4sdnNjb2RlLXJlbW90ZQ%3D%3D?line=1'>2</a>\u001b[0m df \u001b[39m=\u001b[39m gpd\u001b[39m.\u001b[39mread_file(url)\n\u001b[1;32m      <a href='vscode-notebook-cell://wsl%2Bubuntu/root/Geo_Pandas/ejecutables/JupyterNotebooks/lectura_geoP.ipynb#W4sdnNjb2RlLXJlbW90ZQ%3D%3D?line=2'>3</a>\u001b[0m df\n",
      "\u001b[0;31mNameError\u001b[0m: name 'gpd' is not defined"
     ]
    }
   ],
   "source": [
    "url = \"http://d2ad6b4ur7yvpq.cloudfront.net/naturalearth-3.3.0/ne_110m_land.geojson\"\n",
    "df = gpd.read_file(url)\n",
    "df"
   ]
  },
  {
   "cell_type": "markdown",
   "metadata": {},
   "source": [
    "A diferencia de otros metodos en python, para leer archivos en geopandas debemos de usar el path del archivo. Para eso utilizamos la biblioteca os"
   ]
  },
  {
   "cell_type": "code",
   "execution_count": 26,
   "metadata": {},
   "outputs": [],
   "source": [
    "import os"
   ]
  },
  {
   "cell_type": "code",
   "execution_count": 17,
   "metadata": {},
   "outputs": [
    {
     "name": "stdout",
     "output_type": "stream",
     "text": [
      "/Users/miguela.monreal/Desktop/GeoPandas/ejecutables/JupyterNotebooks/a1206_ii.shp\n"
     ]
    }
   ],
   "source": [
    "\n",
    "# Ruta actual\n",
    "ruta_actual = os.getcwd()  # Obtiene la ruta actual donde estás trabajando\n",
    "\n",
    "# Ruta al archivo buscado en otra carpeta\n",
    "ruta_archivo_buscado = os.path.join(ruta_actual, '794551067260_s', 'conjunto_de_datos' , 'a1206_ii.shp')\n",
    "\n",
    "gdf = gpd.read_file(ruta_archivo_buscado)"
   ]
  },
  {
   "cell_type": "code",
   "execution_count": 21,
   "metadata": {},
   "outputs": [],
   "source": []
  },
  {
   "cell_type": "markdown",
   "metadata": {},
   "source": [
    "También permite la lectura de archivos comprimidos "
   ]
  },
  {
   "cell_type": "code",
   "execution_count": 25,
   "metadata": {},
   "outputs": [
    {
     "name": "stdout",
     "output_type": "stream",
     "text": [
      "/Users/miguela.monreal/Desktop/GeoPandas/ejecutables/JupyterNotebooks/794551067260_s.zip\n"
     ]
    },
    {
     "data": {
      "text/html": [
       "<div>\n",
       "<style scoped>\n",
       "    .dataframe tbody tr th:only-of-type {\n",
       "        vertical-align: middle;\n",
       "    }\n",
       "\n",
       "    .dataframe tbody tr th {\n",
       "        vertical-align: top;\n",
       "    }\n",
       "\n",
       "    .dataframe thead th {\n",
       "        text-align: right;\n",
       "    }\n",
       "</style>\n",
       "<table border=\"1\" class=\"dataframe\">\n",
       "  <thead>\n",
       "    <tr style=\"text-align: right;\">\n",
       "      <th></th>\n",
       "      <th>DISP</th>\n",
       "      <th>TIPO</th>\n",
       "      <th>CAUSA_SALI</th>\n",
       "      <th>NOMBRE_ACU</th>\n",
       "      <th>CONDICION</th>\n",
       "      <th>FECHA_DOF</th>\n",
       "      <th>CAL_POS</th>\n",
       "      <th>geometry</th>\n",
       "    </tr>\n",
       "  </thead>\n",
       "  <tbody>\n",
       "    <tr>\n",
       "      <th>0</th>\n",
       "      <td>Sin disponibilidad</td>\n",
       "      <td>Libre</td>\n",
       "      <td>N</td>\n",
       "      <td>Valle de Buenavista</td>\n",
       "      <td>Sobreexplotado</td>\n",
       "      <td>2020-09-17</td>\n",
       "      <td>Aproximada</td>\n",
       "      <td>MULTIPOLYGON (((335927.937 2302674.250, 335916...</td>\n",
       "    </tr>\n",
       "    <tr>\n",
       "      <th>1</th>\n",
       "      <td>Sin disponibilidad</td>\n",
       "      <td>Libre</td>\n",
       "      <td>N</td>\n",
       "      <td>Valle de Amazcala</td>\n",
       "      <td>Sobreexplotado</td>\n",
       "      <td>2020-09-17</td>\n",
       "      <td>Aproximada</td>\n",
       "      <td>MULTIPOLYGON (((364982.425 2315036.300, 365032...</td>\n",
       "    </tr>\n",
       "    <tr>\n",
       "      <th>2</th>\n",
       "      <td>Sin disponibilidad</td>\n",
       "      <td>Libre</td>\n",
       "      <td>N</td>\n",
       "      <td>Laguna Seca</td>\n",
       "      <td>Sobreexplotado</td>\n",
       "      <td>2020-09-17</td>\n",
       "      <td>Aproximada</td>\n",
       "      <td>MULTIPOLYGON (((327388.001 2325553.805, 327570...</td>\n",
       "    </tr>\n",
       "    <tr>\n",
       "      <th>3</th>\n",
       "      <td>Sin disponibilidad</td>\n",
       "      <td>Libre</td>\n",
       "      <td>N</td>\n",
       "      <td>Valle de Celaya</td>\n",
       "      <td>Sobreexplotado</td>\n",
       "      <td>2020-09-17</td>\n",
       "      <td>Aproximada</td>\n",
       "      <td>MULTIPOLYGON (((333420.219 2302033.250, 333403...</td>\n",
       "    </tr>\n",
       "    <tr>\n",
       "      <th>4</th>\n",
       "      <td>Sin disponibilidad</td>\n",
       "      <td>Libre</td>\n",
       "      <td>N</td>\n",
       "      <td>Cuenca Alta del Río Laja</td>\n",
       "      <td>Sobreexplotado</td>\n",
       "      <td>2020-09-17</td>\n",
       "      <td>Aproximada</td>\n",
       "      <td>MULTIPOLYGON (((321071.325 2304446.830, 321071...</td>\n",
       "    </tr>\n",
       "    <tr>\n",
       "      <th>5</th>\n",
       "      <td>Sin disponibilidad</td>\n",
       "      <td>Libre</td>\n",
       "      <td>N</td>\n",
       "      <td>San Miguel de Allende</td>\n",
       "      <td>Subexplotado</td>\n",
       "      <td>2020-09-17</td>\n",
       "      <td>Aproximada</td>\n",
       "      <td>POLYGON ((340899.476 2316830.767, 341425.359 2...</td>\n",
       "    </tr>\n",
       "    <tr>\n",
       "      <th>6</th>\n",
       "      <td>Con disponibilidad</td>\n",
       "      <td>Libre</td>\n",
       "      <td>N</td>\n",
       "      <td>Xichú-Atarjea</td>\n",
       "      <td>Subexplotado</td>\n",
       "      <td>2020-09-17</td>\n",
       "      <td>Aproximada</td>\n",
       "      <td>MULTIPOLYGON (((370010.062 2319749.250, 369969...</td>\n",
       "    </tr>\n",
       "    <tr>\n",
       "      <th>7</th>\n",
       "      <td>Sin disponibilidad</td>\n",
       "      <td>Libre</td>\n",
       "      <td>N</td>\n",
       "      <td>Dr. Mora-San José Iturbide</td>\n",
       "      <td>Sobreexplotado</td>\n",
       "      <td>2020-09-17</td>\n",
       "      <td>Aproximada</td>\n",
       "      <td>POLYGON ((356198.153 2346667.389, 356270.812 2...</td>\n",
       "    </tr>\n",
       "  </tbody>\n",
       "</table>\n",
       "</div>"
      ],
      "text/plain": [
       "                 DISP   TIPO CAUSA_SALI                  NOMBRE_ACU  \\\n",
       "0  Sin disponibilidad  Libre          N         Valle de Buenavista   \n",
       "1  Sin disponibilidad  Libre          N           Valle de Amazcala   \n",
       "2  Sin disponibilidad  Libre          N                 Laguna Seca   \n",
       "3  Sin disponibilidad  Libre          N             Valle de Celaya   \n",
       "4  Sin disponibilidad  Libre          N    Cuenca Alta del Río Laja   \n",
       "5  Sin disponibilidad  Libre          N       San Miguel de Allende   \n",
       "6  Con disponibilidad  Libre          N               Xichú-Atarjea   \n",
       "7  Sin disponibilidad  Libre          N  Dr. Mora-San José Iturbide   \n",
       "\n",
       "        CONDICION   FECHA_DOF     CAL_POS  \\\n",
       "0  Sobreexplotado  2020-09-17  Aproximada   \n",
       "1  Sobreexplotado  2020-09-17  Aproximada   \n",
       "2  Sobreexplotado  2020-09-17  Aproximada   \n",
       "3  Sobreexplotado  2020-09-17  Aproximada   \n",
       "4  Sobreexplotado  2020-09-17  Aproximada   \n",
       "5    Subexplotado  2020-09-17  Aproximada   \n",
       "6    Subexplotado  2020-09-17  Aproximada   \n",
       "7  Sobreexplotado  2020-09-17  Aproximada   \n",
       "\n",
       "                                            geometry  \n",
       "0  MULTIPOLYGON (((335927.937 2302674.250, 335916...  \n",
       "1  MULTIPOLYGON (((364982.425 2315036.300, 365032...  \n",
       "2  MULTIPOLYGON (((327388.001 2325553.805, 327570...  \n",
       "3  MULTIPOLYGON (((333420.219 2302033.250, 333403...  \n",
       "4  MULTIPOLYGON (((321071.325 2304446.830, 321071...  \n",
       "5  POLYGON ((340899.476 2316830.767, 341425.359 2...  \n",
       "6  MULTIPOLYGON (((370010.062 2319749.250, 369969...  \n",
       "7  POLYGON ((356198.153 2346667.389, 356270.812 2...  "
      ]
     },
     "execution_count": 25,
     "metadata": {},
     "output_type": "execute_result"
    }
   ],
   "source": [
    "ruta= \"794551067260_s.zip\"\n",
    "\n",
    "ruta_absoluta_zip = os.path.abspath(ruta)\n",
    "print(ruta_absoluta_zip)\n",
    "\n",
    "df= gpd.read_file('zip://' + ruta_absoluta_zip + '!conjunto_de_datos/a1206_ii.shp') \n",
    "df"
   ]
  },
  {
   "cell_type": "markdown",
   "metadata": {},
   "source": [
    "Otra manera de leer archivos y no leer el path completo es usando la biblioteca auxiliar geodatasets. En este caso "
   ]
  },
  {
   "cell_type": "code",
   "execution_count": null,
   "metadata": {},
   "outputs": [],
   "source": [
    "import geodatasets as gds\n",
    "\n",
    "#GeoData de la ciudad de Nueva York\n",
    "#Long path \n",
    "\n",
    "gdf = gpd.read_file(\n",
    "    gds.get_path(\"geoda.nyc\"),\n",
    "    rows=10,)\n",
    "\n",
    "gdf\n"
   ]
  },
  {
   "cell_type": "code",
   "execution_count": null,
   "metadata": {},
   "outputs": [],
   "source": [
    "#Otra prueba\n",
    "gdf = gpd.read_file(\n",
    "    gds.get_path(\"geoda.nyc\"),\n",
    "    include_fields=[\"name\", \"rent2008\", \"kids2000\"],\n",
    ")\n",
    "\n",
    "gdf"
   ]
  },
  {
   "cell_type": "code",
   "execution_count": null,
   "metadata": {},
   "outputs": [],
   "source": [
    "#Prueba 3\n",
    "\n",
    "gdf2= gpd.read_file(\n",
    "    gds.get_path(\"a1206_ii.shp\"),\n",
    "    rows=10,)"
   ]
  }
 ],
 "metadata": {
  "kernelspec": {
   "display_name": "geo_p",
   "language": "python",
   "name": "python3"
  },
  "language_info": {
   "codemirror_mode": {
    "name": "ipython",
    "version": 3
   },
   "file_extension": ".py",
   "mimetype": "text/x-python",
   "name": "python",
   "nbconvert_exporter": "python",
   "pygments_lexer": "ipython3",
   "version": "3.11.4"
  }
 },
 "nbformat": 4,
 "nbformat_minor": 2
}
